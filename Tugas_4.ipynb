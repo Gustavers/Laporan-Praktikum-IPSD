{
  "nbformat": 4,
  "nbformat_minor": 0,
  "metadata": {
    "colab": {
      "provenance": []
    },
    "kernelspec": {
      "name": "python3",
      "display_name": "Python 3"
    },
    "language_info": {
      "name": "python"
    }
  },
  "cells": [
    {
      "cell_type": "code",
      "execution_count": null,
      "metadata": {
        "id": "gVY9qmuGNf6U"
      },
      "outputs": [],
      "source": [
        "from sklearn.datasets import load_diabetes\n",
        "from sklearn.linear_model import LinearRegression, Lasso, Ridge\n",
        "from sklearn.model_selection import train_test_split\n",
        "from sklearn.metrics import mean_squared_error, r2_score"
      ]
    },
    {
      "cell_type": "markdown",
      "source": [
        "1. **`from sklearn.datasets import load_diabetes`**:\n",
        "   - Memuat dataset **Diabetes** dari pustaka `sklearn`, yaitu dataset kecil yang biasa digunakan untuk eksperimen dan analisis regresi. Dataset ini berisi data medis pasien dengan diabetes dan digunakan untuk memprediksi progresi penyakit berdasarkan fitur-fitur tertentu.\n",
        "\n",
        "2. **`from sklearn.linear_model import LinearRegression, Lasso, Ridge`**:\n",
        "   - Mengimpor tiga model regresi linier yang berbeda:\n",
        "     - **LinearRegression**: Model regresi linier dasar.\n",
        "     - **Lasso**: Regresi linier dengan regularisasi L1, yang menghasilkan model yang lebih sederhana dengan beberapa koefisien menjadi nol (memilih fitur secara otomatis).\n",
        "     - **Ridge**: Regresi linier dengan regularisasi L2, yang mengurangi kompleksitas model dengan mencegah koefisien yang terlalu besar.\n",
        "\n",
        "3. **`from sklearn.model_selection import train_test_split`**:\n",
        "   - Mengimpor fungsi untuk membagi dataset menjadi data latih (training set) dan data uji (testing set). Ini digunakan untuk mengevaluasi kinerja model dengan data yang tidak terlihat selama pelatihan.\n",
        "\n",
        "4. **`from sklearn.metrics import mean_squared_error, r2_score`**:\n",
        "   - Mengimpor dua metrik evaluasi model:\n",
        "     - **Mean Squared Error (MSE)**: Mengukur rata-rata kuadrat dari kesalahan antara nilai sebenarnya dan nilai prediksi. Semakin kecil nilainya, semakin baik model dalam memprediksi.\n",
        "     - **R-squared (R²)**: Menunjukkan seberapa baik variasi dalam data dapat dijelaskan oleh model. Nilai R² berkisar antara 0 hingga 1, di mana nilai lebih tinggi menunjukkan model yang lebih baik."
      ],
      "metadata": {
        "id": "CXguBH0egtun"
      }
    },
    {
      "cell_type": "code",
      "source": [
        "x, y = load_diabetes(return_X_y=True)"
      ],
      "metadata": {
        "id": "DT56B3zNOOcR"
      },
      "execution_count": null,
      "outputs": []
    },
    {
      "cell_type": "code",
      "source": [
        "lr = LinearRegression()"
      ],
      "metadata": {
        "id": "9U8HVZP7OQ4l"
      },
      "execution_count": null,
      "outputs": []
    },
    {
      "cell_type": "markdown",
      "source": [
        "menginisialisasi model regresi linier dari pustaka sklearn. Dengan perintah ini, objek lr dibuat sebagai instans dari kelas LinearRegression, yang dapat digunakan untuk melakukan pelatihan model regresi linier pada data, serta untuk membuat prediksi berdasarkan model yang telah dilatih. Model regresi linier ini akan mencoba menemukan hubungan linear antara fitur input dan variabel target."
      ],
      "metadata": {
        "id": "fulWUmH8lYV1"
      }
    },
    {
      "cell_type": "code",
      "source": [
        "len(load_diabetes()['feature_names'])"
      ],
      "metadata": {
        "colab": {
          "base_uri": "https://localhost:8080/"
        },
        "id": "tLM0KiKhP2Uf",
        "outputId": "3c953c36-ee91-4856-d82f-d18ec9164d72"
      },
      "execution_count": null,
      "outputs": [
        {
          "output_type": "execute_result",
          "data": {
            "text/plain": [
              "10"
            ]
          },
          "metadata": {},
          "execution_count": 13
        }
      ]
    },
    {
      "cell_type": "markdown",
      "source": [
        "digunakan untuk menghitung jumlah fitur (variabel input) yang ada dalam dataset Diabetes dari pustaka sklearn"
      ],
      "metadata": {
        "id": "AIXTD1iwlASD"
      }
    },
    {
      "cell_type": "code",
      "source": [
        "lr.fit(x, y)\n",
        "y_pred = lr.predict(x)"
      ],
      "metadata": {
        "id": "BAbccG0DPMj3"
      },
      "execution_count": null,
      "outputs": []
    },
    {
      "cell_type": "markdown",
      "source": [
        "kode di atas digunakan untuk melatih model regresi linier lr menggunakan data fitur x dan target y, di mana model menghitung koefisien yang optimal agar dapat memprediksi nilai target dengan akurasi yang tinggi. Setelah model dilatih, kode y_pred = lr.predict(x) digunakan untuk menghasilkan prediksi berdasarkan data fitur yang sama, dengan hasilnya disimpan dalam variabel y_pred"
      ],
      "metadata": {
        "id": "21rp7gXdlnxT"
      }
    },
    {
      "cell_type": "code",
      "source": [
        "print(r2_score(y, y_pred))"
      ],
      "metadata": {
        "colab": {
          "base_uri": "https://localhost:8080/"
        },
        "id": "z2g9jvt0PTrw",
        "outputId": "b90fa937-3f10-4bd1-b3d9-bc37a23f11e5"
      },
      "execution_count": null,
      "outputs": [
        {
          "output_type": "stream",
          "name": "stdout",
          "text": [
            "0.5177484222203499\n"
          ]
        }
      ]
    },
    {
      "cell_type": "markdown",
      "source": [
        "kode Fungsi ini menghitung R-squared, yang merupakan ukuran seberapa baik model dapat menjelaskan variasi dalam data target. R² berkisar antara 0 hingga 1, di mana nilai yang lebih tinggi menunjukkan bahwa model lebih baik dalam memprediksi nilai target berdasarkan fitur yang diberikan.\n",
        "\n",
        "Nilai R² di atas 0.5 mengindikasikan bahwa model memiliki kinerja yang lebih baik daripada sekadar menebak rata-rata dari data target. Namun, nilai ini juga menunjukkan bahwa ada 48.2% variasi yang tidak dapat dijelaskan oleh model, yang bisa disebabkan oleh faktor lain yang tidak diambil dalam model atau mungkin adanya noise dalam data"
      ],
      "metadata": {
        "id": "bzhCqTsumEM_"
      }
    },
    {
      "cell_type": "code",
      "source": [
        "print(mean_squared_error(y, y_pred))"
      ],
      "metadata": {
        "colab": {
          "base_uri": "https://localhost:8080/"
        },
        "id": "dYsLiUUUPdaq",
        "outputId": "880a36b0-b45f-4f9e-86c6-c984830fdd9c"
      },
      "execution_count": null,
      "outputs": [
        {
          "output_type": "stream",
          "name": "stdout",
          "text": [
            "2859.69634758675\n"
          ]
        }
      ]
    },
    {
      "cell_type": "markdown",
      "source": [
        "Koe tersebut digunakan untuk menghitung dan mencetak nilai Mean Squared Error (MSE) dari model regresi linier yang telah dilatih\n",
        "Nilai output yang dihasilkan menunjukkan bahwa rata-rata kuadrat selisih antara nilai aktual dan nilai yang diprediksi oleh model adalah 2859.70. Ini berarti bahwa, secara umum, kesalahan prediksi model cukup besar. Dengan MSE sebesar 2859.70, ada indikasi bahwa model regresi linier yang digunakan mungkin tidak optimal dalam menjelaskan data target"
      ],
      "metadata": {
        "id": "_dNBJ4cAmyEQ"
      }
    },
    {
      "cell_type": "code",
      "source": [
        "from sklearn.model_selection import train_test_split\n",
        "x_train, x_test, y_train, y_test = train_test_split(x, y, test_size=0.2, random_state=42)"
      ],
      "metadata": {
        "id": "NSovgppnRK8N"
      },
      "execution_count": null,
      "outputs": []
    },
    {
      "cell_type": "markdown",
      "source": [
        "\n",
        "kode diatas digunakan untuk **membagi dataset menjadi set pelatihan dan set pengujian**. Berikut penjelasan dari masing-masing bagian:\n",
        "\n",
        "1. **`from sklearn.model_selection import train_test_split`**:\n",
        "   - Mengimpor fungsi `train_test_split` dari pustaka `sklearn`, yang digunakan untuk membagi dataset menjadi dua subset: satu untuk melatih model (set pelatihan) dan satu untuk menguji model (set pengujian).\n",
        "\n",
        "2. **`train_test_split(x, y, test_size=0.2, random_state=42)`**:\n",
        "   - `x` adalah matriks fitur, dan `y` adalah target yang ingin diprediksi.\n",
        "   - **`test_size=0.2`**: Menunjukkan bahwa 20% dari data akan digunakan sebagai set pengujian, sedangkan 80% sisanya akan digunakan untuk set pelatihan. Ini adalah pembagian yang umum digunakan untuk memastikan model dilatih dengan cukup data sambil tetap memiliki data yang cukup untuk menguji kinerjanya.\n",
        "   - **`random_state=42`**: Menetapkan seed untuk generator angka acak, yang memastikan bahwa pembagian data dapat direproduksi. Dengan menggunakan nilai yang sama (dalam hal ini, 42), Anda akan mendapatkan pembagian data yang sama setiap kali kode dijalankan.\n",
        "\n",
        "3. **`x_train, x_test, y_train, y_test`**:\n",
        "   - Variabel ini menyimpan hasil pembagian dataset:\n",
        "     - **`x_train`**: Fitur untuk pelatihan.\n",
        "     - **`x_test`**: Fitur untuk pengujian.\n",
        "     - **`y_train`**: Target untuk pelatihan.\n",
        "     - **`y_test`**: Target untuk pengujian."
      ],
      "metadata": {
        "id": "NXPbV7lQnR5z"
      }
    },
    {
      "cell_type": "code",
      "source": [
        "lr = LinearRegression()\n",
        "lr.fit(x_train, y_train)\n",
        "y_pred = lr.predict(x_test)\n",
        "print(r2_score(y_test, y_pred))\n",
        "print(mean_squared_error(y_test, y_pred))"
      ],
      "metadata": {
        "colab": {
          "base_uri": "https://localhost:8080/"
        },
        "id": "cL2qvqCJPiic",
        "outputId": "0a47d8ae-dd60-41ec-95ad-339cae476fa7"
      },
      "execution_count": null,
      "outputs": [
        {
          "output_type": "stream",
          "name": "stdout",
          "text": [
            "0.4526027629719195\n",
            "2900.193628493482\n"
          ]
        }
      ]
    },
    {
      "cell_type": "markdown",
      "source": [
        "kode ini digunakan untuk melatih model regresi linier pada data pelatihan, membuat prediksi, dan mengevaluasi kinerja model menggunakan data pengujian.\n",
        "Output dari evaluasi model regresi linier menunjukkan bahwa nilai R-squared (R²) adalah **0.4526**, yang berarti model hanya dapat menjelaskan sekitar **45.3%** dari variasi dalam data target `y_test`. Ini menunjukkan bahwa model memiliki kemampuan prediksi yang terbatas dan hampir setengah dari variasi target tidak dapat dijelaskan oleh fitur yang digunakan. Selain itu, nilai Mean Squared Error (MSE) sebesar **2900.19** menunjukkan rata-rata kesalahan kuadrat yang signifikan antara nilai aktual dan nilai yang diprediksi, menandakan bahwa model mungkin tidak berfungsi dengan baik dalam memprediksi data pengujian. Secara keseluruhan, hasil ini menunjukkan bahwa ada ruang untuk perbaikan dalam model, baik melalui optimasi fitur atau penggunaan teknik pemodelan yang lebih kompleks untuk meningkatkan akurasi prediksi."
      ],
      "metadata": {
        "id": "fauG6Rumnp2j"
      }
    },
    {
      "cell_type": "code",
      "source": [],
      "metadata": {
        "id": "r1MdR5guSCAN"
      },
      "execution_count": null,
      "outputs": []
    }
  ]
}